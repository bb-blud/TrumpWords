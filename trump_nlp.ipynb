{
 "cells": [
  {
   "cell_type": "markdown",
   "metadata": {
    "ein.tags": [
     "worksheet-0"
    ],
    "slideshow": {
     "slide_type": "-"
    }
   },
   "source": [
    "Deep Learning\n",
    "=============\n",
    "\n",
    "Analysing a small corpus of Trump's public speaking using Word2Vec, skip-gram and T-SNE."
   ]
  },
  {
   "cell_type": "code",
   "execution_count": 1,
   "metadata": {
    "autoscroll": "json-false",
    "collapsed": false,
    "ein.tags": [
     "worksheet-0"
    ],
    "slideshow": {
     "slide_type": "-"
    }
   },
   "outputs": [],
   "source": [
    "# These are all the modules we'll be using later. Make sure you can import them\n",
    "# before proceeding further.\n",
    "%matplotlib inline\n",
    "from __future__ import print_function\n",
    "import collections\n",
    "import string\n",
    "import math\n",
    "import numpy as np\n",
    "import os\n",
    "import random\n",
    "import tensorflow as tf\n",
    "import zipfile\n",
    "from matplotlib import pylab\n",
    "from six.moves import range\n",
    "from six.moves.urllib.request import urlretrieve\n",
    "from sklearn.manifold import TSNE\n",
    "from time import time"
   ]
  },
  {
   "cell_type": "markdown",
   "metadata": {
    "ein.tags": [
     "worksheet-0"
    ],
    "slideshow": {
     "slide_type": "-"
    }
   },
   "source": [
    "# These are all the modules we'll be using later. Make sure you can import them\n",
    "# before proceeding further.\n",
    "%matplotlib inline\n",
    "from __future__ import print_function\n",
    "import collections\n",
    "import string\n",
    "import math\n",
    "import numpy as np\n",
    "import os\n",
    "import random\n",
    "import tensorflow as tf\n",
    "import zipfile\n",
    "from matplotlib import pylab\n",
    "from six.moves import range\n",
    "from six.moves.urllib.request import urlretrieve\n",
    "from sklearn.manifold import TSNE\n",
    "from time import time"
   ]
  },
  {
   "cell_type": "code",
   "execution_count": 2,
   "metadata": {
    "autoscroll": "json-false",
    "collapsed": false,
    "ein.tags": [
     "worksheet-0"
    ],
    "slideshow": {
     "slide_type": "-"
    }
   },
   "outputs": [],
   "source": [
    "speaking_solo = [\n",
    "    \"aipac032116.txt\",\n",
    "    \"blackhist020117.txt\",\n",
    "    \"detroit0808.txt\",\n",
    "    \"inaguration.txt\",\n",
    "    \"law_order081616.txt\",\n",
    "    \"miamispeech021617.txt\",\n",
    "    \"national_security061316.txt\",\n",
    "    \"national_security090716.txt\",\n",
    "    \"onHilary.txt\",\n",
    "    \"victory_speach_e.txt\"]\n",
    "speaking_not_solo = [\n",
    "    \"abc_interview012617_multi.txt\",\n",
    "    \"clintonVtrump11016_multi.txt\",\n",
    "    \"cpac022417_multi.txt\",\n",
    "    \"gop_debate_all.txt\",\n",
    "    \"immigration110116_multi.txt\",\n",
    "    \"press_con021617_multi.txt\",\n",
    "    \"townhall032916_multi.txt\",\n",
    "    \"wp_interview032116_multi.txt\"]\n",
    "    \n"
   ]
  },
  {
   "cell_type": "markdown",
   "metadata": {
    "ein.tags": [
     "worksheet-0"
    ],
    "slideshow": {
     "slide_type": "-"
    }
   },
   "source": [
    "Helper functions for extracting words from the above files"
   ]
  },
  {
   "cell_type": "code",
   "execution_count": 3,
   "metadata": {
    "autoscroll": "json-false",
    "collapsed": false,
    "ein.tags": [
     "worksheet-0"
    ],
    "slideshow": {
     "slide_type": "-"
    }
   },
   "outputs": [],
   "source": [
    "punctn = string.punctuation + \"…\" + \"—\" + \"’\" + \"“\"\n",
    "def getSoloWords(filename):\n",
    "    with open(\"./solo/\"+filename, 'rb') as f:\n",
    "        words = f.read().split()\n",
    "    return [w.translate(string.maketrans(\"\",\"\") , punctn).lower() for w in words]\n",
    "def getNonSolo(filename):\n",
    "    with open(\"./non_solo/\"+filename, 'rb') as f:\n",
    "        words = f.read().split()\n",
    "        \n",
    "    trump_speaking = False\n",
    "    trump_words = []\n",
    "    for word in words:\n",
    "        # Colon indicates speaker will speak\n",
    "        if word[-1] == ':':\n",
    "            if \"TRUMP\" in word: # If Trump is speaker\n",
    "                trump_speaking = True\n",
    "            else:\n",
    "                trump_speaking = False\n",
    "            continue\n",
    "            \n",
    "        # take just spoken words, ignore transcipt descriptions (which are in parenthesis)\n",
    "        if trump_speaking and word[0] != '(' and word[-1] != ')':\n",
    "            # Strip punctuation\n",
    "            word = word.translate(string.maketrans(\"\",\"\") , punctn).lower()\n",
    "            if word != \"\":\n",
    "                trump_words.append(word)\n",
    "    return trump_words\n"
   ]
  },
  {
   "cell_type": "markdown",
   "metadata": {
    "ein.tags": [
     "worksheet-0"
    ],
    "slideshow": {
     "slide_type": "-"
    }
   },
   "source": [
    "Extract all words spoken"
   ]
  },
  {
   "cell_type": "code",
   "execution_count": 4,
   "metadata": {
    "autoscroll": "json-false",
    "collapsed": false,
    "ein.tags": [
     "worksheet-0"
    ],
    "slideshow": {
     "slide_type": "-"
    }
   },
   "outputs": [],
   "source": [
    "word_corpus = []\n",
    "for doc in speaking_solo:\n",
    "    word_corpus += getSoloWords(doc)\n",
    "for doc in speaking_not_solo:\n",
    "    word_corpus += getNonSolo(doc)"
   ]
  },
  {
   "cell_type": "markdown",
   "metadata": {
    "ein.tags": [
     "worksheet-0"
    ],
    "slideshow": {
     "slide_type": "-"
    }
   },
   "source": [
    "Build the dictionary"
   ]
  },
  {
   "cell_type": "code",
   "execution_count": 5,
   "metadata": {
    "autoscroll": "json-false",
    "collapsed": false,
    "ein.tags": [
     "worksheet-0"
    ],
    "slideshow": {
     "slide_type": "-"
    }
   },
   "outputs": [
    {
     "name": "stdout",
     "output_type": "stream",
     "text": [
      "Most common words [('the', 4335), ('and', 3520), ('i', 3166), ('to', 3153), ('a', 2385)]\n",
      "Sample data [92, 899, 119, 6, 23, 88, 2, 579, 3, 6]\n",
      "0.113315105438\n"
     ]
    }
   ],
   "source": [
    "def build_dataset(words):\n",
    "  count = []\n",
    "  count.extend(collections.Counter(words).most_common())\n",
    "  dictionary = dict()\n",
    "  for word, _ in count:\n",
    "    dictionary[word] = len(dictionary)\n",
    "  data = list()\n",
    "  for word in words:\n",
    "    if word in dictionary:\n",
    "      index = dictionary[word]\n",
    "    data.append(index)\n",
    "  reverse_dictionary = dict(zip(dictionary.values(), dictionary.keys())) \n",
    "  return data, count, dictionary, reverse_dictionary\n",
    "s = time()\n",
    "data, count, dictionary, reverse_dictionary = build_dataset(word_corpus)\n",
    "print('Most common words', count[:5])\n",
    "print('Sample data', data[:10])\n",
    "print(time()-s)"
   ]
  },
  {
   "cell_type": "markdown",
   "metadata": {
    "ein.tags": [
     "worksheet-0"
    ],
    "slideshow": {
     "slide_type": "-"
    }
   },
   "source": [
    "Function to generate a training batch for the skip-gram model."
   ]
  },
  {
   "cell_type": "code",
   "execution_count": 6,
   "metadata": {
    "autoscroll": "json-false",
    "collapsed": false,
    "ein.tags": [
     "worksheet-0"
    ],
    "slideshow": {
     "slide_type": "-"
    }
   },
   "outputs": [
    {
     "name": "stdout",
     "output_type": "stream",
     "text": [
      "data: ['good', 'evening', 'thank', 'you', 'very', 'much', 'i', 'speak']\n",
      "\n",
      "with num_skips = 2 and skip_window = 1:\n",
      "    batch: ['evening', 'evening', 'thank', 'thank', 'you', 'you', 'very', 'very']\n",
      "    labels: ['thank', 'good', 'evening', 'you', 'very', 'thank', 'you', 'much']\n",
      "\n",
      "with num_skips = 4 and skip_window = 2:\n",
      "    batch: ['thank', 'thank', 'thank', 'thank', 'you', 'you', 'you', 'you']\n",
      "    labels: ['very', 'good', 'you', 'evening', 'much', 'thank', 'very', 'evening']\n"
     ]
    }
   ],
   "source": [
    "data_index = 0\n",
    "\n",
    "def generate_batch(batch_size, num_skips, skip_window):\n",
    "  global data_index\n",
    "  assert batch_size % num_skips == 0\n",
    "  assert num_skips <= 2 * skip_window\n",
    "  batch = np.ndarray(shape=(batch_size), dtype=np.int32)\n",
    "  labels = np.ndarray(shape=(batch_size, 1), dtype=np.int32)\n",
    "  span = 2 * skip_window + 1 # [ skip_window target skip_window ]\n",
    "  buffer = collections.deque(maxlen=span)\n",
    "  for _ in range(span):\n",
    "    buffer.append(data[data_index])\n",
    "    data_index = (data_index + 1) % len(data)\n",
    "  for i in range(batch_size // num_skips):\n",
    "    target = skip_window  # target label at the center of the buffer\n",
    "    targets_to_avoid = [ skip_window ]\n",
    "    for j in range(num_skips):\n",
    "      while target in targets_to_avoid:\n",
    "        target = random.randint(0, span - 1)\n",
    "      targets_to_avoid.append(target)\n",
    "      batch[i * num_skips + j] = buffer[skip_window]\n",
    "      labels[i * num_skips + j, 0] = buffer[target]\n",
    "    buffer.append(data[data_index])\n",
    "    data_index = (data_index + 1) % len(data)\n",
    "  return batch, labels\n",
    "\n",
    "print('data:', [reverse_dictionary[di] for di in data[:8]])\n",
    "\n",
    "for num_skips, skip_window in [(2, 1), (4, 2)]:\n",
    "    data_index = 0\n",
    "    batch, labels = generate_batch(batch_size=8, num_skips=num_skips, skip_window=skip_window)\n",
    "    print('\\nwith num_skips = %d and skip_window = %d:' % (num_skips, skip_window))\n",
    "    print('    batch:', [reverse_dictionary[bi] for bi in batch])\n",
    "    print('    labels:', [reverse_dictionary[li] for li in labels.reshape(8)])"
   ]
  },
  {
   "cell_type": "markdown",
   "metadata": {
    "ein.tags": [
     "worksheet-0"
    ],
    "slideshow": {
     "slide_type": "-"
    }
   },
   "source": [
    "Build graph and train a skip-gram model."
   ]
  },
  {
   "cell_type": "code",
   "execution_count": 7,
   "metadata": {
    "autoscroll": "json-false",
    "collapsed": false,
    "ein.tags": [
     "worksheet-0"
    ],
    "slideshow": {
     "slide_type": "-"
    }
   },
   "outputs": [],
   "source": [
    "vocabulary_size = len(dictionary) # Using all words given small amount of text\n",
    "batch_size = 48\n",
    "embedding_size = 48  # Dimension of the embedding vector.\n",
    "skip_window = 6       # How many words to consider left and right.\n",
    "num_skips = 12         # How many times to reuse an input to generate a label.\n",
    "\n",
    "# We pick a random validation set to sample nearest neighbors. Here we limit the\n",
    "# validation samples to the words that have a low numeric ID, which by\n",
    "# construction are also the most frequent.\n",
    "valid_size = 16     # Random set of words to evaluate similarity on.\n",
    "valid_window = 100  # Only pick dev samples in the head of the distribution.\n",
    "valid_examples = np.random.choice(valid_window, valid_size, replace=False)\n",
    "####\n",
    "vexs = [\"hillary\", \"america\", \"great\", \"terrorism\", \"press\",  \"china\", \"build\", \"president\"]\n",
    "valid_size = len(vexs)\n",
    "valid_examples = [dictionary[w] for w in vexs]\n",
    "num_sampled = 60    # Number of negative examples to sample.\n",
    "\n",
    "graph = tf.Graph()\n",
    "\n",
    "with graph.as_default():\n",
    "\n",
    "  # Input data.\n",
    "  train_inputs = tf.placeholder(tf.int32, shape=[batch_size])\n",
    "  train_labels = tf.placeholder(tf.int32, shape=[batch_size, 1])\n",
    "  valid_dataset = tf.constant(valid_examples, dtype=tf.int32)\n",
    "\n",
    "  # Ops and variables pinned to the CPU because of missing GPU implementation\n",
    "  with tf.device('/cpu:0'):\n",
    "    # Look up embeddings for inputs.\n",
    "    embeddings = tf.Variable(\n",
    "        tf.random_uniform([vocabulary_size, embedding_size], -1.0, 1.0))\n",
    "    embed = tf.nn.embedding_lookup(embeddings, train_inputs)\n",
    "\n",
    "    # Construct the variables for the NCE loss\n",
    "    nce_weights = tf.Variable(\n",
    "        tf.truncated_normal([vocabulary_size, embedding_size],\n",
    "                            stddev=1.0 / math.sqrt(embedding_size)))\n",
    "    nce_biases = tf.Variable(tf.zeros([vocabulary_size]))\n",
    "\n",
    "  # Compute the average NCE loss for the batch.\n",
    "  # tf.nce_loss automatically draws a new sample of the negative labels each\n",
    "  # time we evaluate the loss.\n",
    "  loss = tf.reduce_mean(\n",
    "      tf.nn.nce_loss(weights=nce_weights,\n",
    "                     biases=nce_biases,\n",
    "                     labels=train_labels,\n",
    "                     inputs=embed,\n",
    "                     num_sampled=num_sampled,\n",
    "                     num_classes=vocabulary_size))\n",
    "\n",
    "  # Construct the SGD optimizer using a learning rate of 1.0.\n",
    "  optimizer = tf.train.GradientDescentOptimizer(1.0).minimize(loss)\n",
    "\n",
    "  # Compute the cosine similarity between minibatch examples and all embeddings.\n",
    "  norm = tf.sqrt(tf.reduce_sum(tf.square(embeddings), 1, keep_dims=True))\n",
    "  normalized_embeddings = embeddings / norm\n",
    "  valid_embeddings = tf.nn.embedding_lookup(\n",
    "      normalized_embeddings, valid_dataset)\n",
    "  similarity = tf.matmul(\n",
    "      valid_embeddings, normalized_embeddings, transpose_b=True)\n",
    "\n",
    "  # Add variable initializer.\n",
    "  init = tf.global_variables_initializer()"
   ]
  },
  {
   "cell_type": "code",
   "execution_count": 8,
   "metadata": {
    "autoscroll": "json-false",
    "collapsed": false,
    "ein.tags": [
     "worksheet-0"
    ],
    "slideshow": {
     "slide_type": "-"
    }
   },
   "outputs": [
    {
     "name": "stdout",
     "output_type": "stream",
     "text": [
      "Average loss at step  500000 :  4.81634301996\n",
      "Nearest to hillary: clinton, clintons, plastic, beat, leadership, failed, her, reset,\n",
      "Nearest to america: again, make, rich, god, wealthy, great, deals, winning,\n",
      "Nearest to great: fantastic, again, deals, patriots, america, company, everybody, strong,\n",
      "Nearest to terrorism: islamic, radical, defeat, defeating, targeted, several, networks, sponsor,\n",
      "Nearest to press: fake, charges, public, word, news, thats, putting, information,\n",
      "Nearest to china: mexico, devaluation, moving, lose, currency, jobs, devalue, trades,\n",
      "Nearest to build: wall, privately, afford, works, bridges, massive, lifted, southern,\n",
      "Nearest to president: obama, elected, final, being, gave, wants, community, thoughtful,\n"
     ]
    },
    {
     "name": "stdout",
     "output_type": "stream",
     "text": [
      "Average loss at step  495000 :  4.83880538993\n"
     ]
    },
    {
     "name": "stdout",
     "output_type": "stream",
     "text": [
      "Average loss at step  490000 :  4.85903345695\n",
      "Nearest to hillary: clinton, clintons, she, promises, pledged, her, failed, radical,\n",
      "Nearest to america: again, wealthy, together, make, rich, american, god, safe,\n",
      "Nearest to great: thank, a, incredible, country, again, patriots, relationships, have,\n",
      "Nearest to terrorism: islamic, radical, defeat, defeating, targeted, networks, several, shores,\n",
      "Nearest to press: fake, charges, word, news, ashamed, trouble, does, bottom,\n",
      "Nearest to china: japan, mexico, trade, north, south, stealing, korea, lose,\n",
      "Nearest to build: wall, bridges, massive, built, afford, southern, highways, rebuild,\n",
      "Nearest to president: elected, obama, being, gave, thoughtful, negotiator, leader, incompetent,\n"
     ]
    },
    {
     "name": "stdout",
     "output_type": "stream",
     "text": [
      "Average loss at step  485000 :  4.89571798024\n"
     ]
    },
    {
     "name": "stdout",
     "output_type": "stream",
     "text": [
      "Average loss at step  480000 :  4.94524160624\n",
      "Nearest to hillary: clinton, clintons, beat, plastic, ted, pledged, iran, president�,\n",
      "Nearest to america: again, forgotten, make, wealthy, great, god, american, together,\n",
      "Nearest to great: again, wow, cheerleader, make, strong, america, fantastic, together,\n",
      "Nearest to terrorism: islamic, defeat, defeating, several, radical, form, targeted, shores,\n",
      "Nearest to press: ashamed, fake, charges, news, information, is, word, because,\n",
      "Nearest to china: mexico, japan, lose, imbalance, trade, korea, north, deficit,\n",
      "Nearest to build: wall, building, privately, highways, massive, rebuild, factories, preexisting,\n",
      "Nearest to president: elected, obama, number, terminate, executive, this, but, leader,\n"
     ]
    },
    {
     "name": "stdout",
     "output_type": "stream",
     "text": [
      "Average loss at step  475000 :  4.81747062321\n"
     ]
    },
    {
     "name": "stdout",
     "output_type": "stream",
     "text": [
      "Average loss at step  470000 :  4.83068548136\n",
      "Nearest to hillary: clinton, clintons, her, beat, plastic, actions, leadership, policies,\n",
      "Nearest to america: make, again, safe, wealthy, together, inner, god, jobs,\n",
      "Nearest to great: strong, respect, fantastic, management, very, respected, daughter, conservative,\n",
      "Nearest to terrorism: islamic, several, radical, defeating, energies, charge, isis, defeat,\n",
      "Nearest to press: fake, word, ashamed, bottom, public, putting, news, trouble,\n",
      "Nearest to china: mexico, devaluation, japan, toward, lose, korea, goods, places,\n",
      "Nearest to build: wall, building, privately, form, built, massive, finished, southern,\n",
      "Nearest to president: obama, elected, wants, administration, hillary, incompetent, only, thoughtful,\n"
     ]
    },
    {
     "name": "stdout",
     "output_type": "stream",
     "text": [
      "Average loss at step  465000 :  4.83513227386\n"
     ]
    },
    {
     "name": "stdout",
     "output_type": "stream",
     "text": [
      "Average loss at step  460000 :  4.89364269495\n",
      "Nearest to hillary: clinton, barbarians, book, wants, also, president�, reset, beat,\n",
      "Nearest to america: again, god, thank, wealthy, bless, rich, forgotten, safe,\n",
      "Nearest to great: addition, thank, theme, again, substantial, become, conclude, fantastic,\n",
      "Nearest to terrorism: islamic, radical, defeating, defeat, west, several, nightclub, targeted,\n",
      "Nearest to press: ashamed, word, bottom, charges, public, honest, fake, news,\n",
      "Nearest to china: japan, mexico, korea, south, lose, north, devaluation, deal,\n",
      "Nearest to build: wall, massive, built, rebuild, southern, privately, form, soon,\n",
      "Nearest to president: obama, elected, leader, has, negotiator, being, incompetent, angry,\n"
     ]
    },
    {
     "name": "stdout",
     "output_type": "stream",
     "text": [
      "Average loss at step  455000 :  4.99948220797\n"
     ]
    },
    {
     "name": "stdout",
     "output_type": "stream",
     "text": [
      "Average loss at step  450000 :  4.89835834141\n",
      "Nearest to hillary: clinton, wants, clintons, pledged, plastic, she, disastrous, bill,\n",
      "Nearest to america: again, wealthy, are, god, make, safe, time, forgotten,\n",
      "Nearest to great: fantastic, before, general, engineer, parents, deals, mattis, utah,\n",
      "Nearest to terrorism: islamic, several, defeat, defeating, radical, targeted, isis, west,\n",
      "Nearest to press: ashamed, honest, information, bottom, way, charges, fake, bit,\n",
      "Nearest to china: japan, mexico, trade, devalue, imbalance, places, terms, lose,\n",
      "Nearest to build: wall, southern, building, factories, will, bridges, afford, stay,\n",
      "Nearest to president: obama, elected, executive, terminate, gave, angry, barack, obamas,\n"
     ]
    },
    {
     "name": "stdout",
     "output_type": "stream",
     "text": [
      "Average loss at step  445000 :  4.83536784487\n"
     ]
    },
    {
     "name": "stdout",
     "output_type": "stream",
     "text": [
      "Average loss at step  440000 :  4.86152876396\n",
      "Nearest to hillary: clinton, clintons, pledged, supports, leadership, beat, obama, promises,\n",
      "Nearest to america: again, make, rich, wealthy, god, grow, dynamic, together,\n",
      "Nearest to great: again, make, respect, once, management, company, deals, fantastic,\n",
      "Nearest to terrorism: islamic, radical, several, defeating, defeat, targeted, worlds, isis,\n",
      "Nearest to press: fake, charges, news, ashamed, fact, word, public, confidential,\n",
      "Nearest to china: mexico, japan, lose, devaluation, north, stealing, billion, south,\n",
      "Nearest to build: wall, southern, form, works, need, be, individual, massive,\n",
      "Nearest to president: obama, elected, administration, incompetent, being, executive, final, under,\n"
     ]
    },
    {
     "name": "stdout",
     "output_type": "stream",
     "text": [
      "Average loss at step  435000 :  4.87555367265\n"
     ]
    },
    {
     "name": "stdout",
     "output_type": "stream",
     "text": [
      "Average loss at step  430000 :  4.96551367674\n",
      "Nearest to hillary: clinton, clintons, pledged, department, brutalized, plastic, state, homeland,\n",
      "Nearest to america: make, again, wealthy, great, god, deals, rich, strong,\n",
      "Nearest to great: again, make, strong, deals, america, once, thank, wealthy,\n",
      "Nearest to terrorism: islamic, radical, several, defeating, threat, defeat, now, targeted,\n",
      "Nearest to press: because, but, ashamed, charges, word, fake, bit, news,\n",
      "Nearest to china: mexico, japan, trade, south, korea, deficit, lose, imbalance,\n",
      "Nearest to build: wall, southern, creation, form, will, future, technologies, massive,\n",
      "Nearest to president: obama, barack, an, abandonment, elected, executive, thoughtful, final,\n"
     ]
    },
    {
     "name": "stdout",
     "output_type": "stream",
     "text": [
      "Average loss at step  425000 :  4.9475421201\n"
     ]
    },
    {
     "name": "stdout",
     "output_type": "stream",
     "text": [
      "Average loss at step  420000 :  4.9138031599\n",
      "Nearest to hillary: clinton, beat, clintons, her, actions, however, policies, plastic,\n",
      "Nearest to america: again, make, wealthy, inner, american, rich, forgotten, grow,\n",
      "Nearest to great: again, make, job, strong, deals, fantastic, everybody, conservative,\n",
      "Nearest to terrorism: islamic, radical, several, defeat, defeating, west, threat, decisive,\n",
      "Nearest to press: fake, charges, word, fact, does, confidential, news, putting,\n",
      "Nearest to china: mexico, japan, overseas, lose, imbalance, moving, pay, bring,\n",
      "Nearest to build: wall, form, building, pay, wanna, gonna, stay, american,\n",
      "Nearest to president: obama, elected, incompetent, executive, there, this, administration, terminate,\n"
     ]
    },
    {
     "name": "stdout",
     "output_type": "stream",
     "text": [
      "Average loss at step  415000 :  4.86966386423\n"
     ]
    },
    {
     "name": "stdout",
     "output_type": "stream",
     "text": [
      "Average loss at step  410000 :  4.86961940928\n",
      "Nearest to hillary: clinton, clintons, her, is, policies, the, by, supports,\n",
      "Nearest to america: again, make, will, we, rich, wealthy, safe, god,\n",
      "Nearest to great: again, make, fantastic, god, proud, conservative, deals, america,\n",
      "Nearest to terrorism: islamic, radical, several, is, threat, on, violence, defeating,\n",
      "Nearest to press: charges, word, fake, news, fact, confidential, does, national,\n",
      "Nearest to china: japan, devaluation, companies, conditioning, mexico, moving, lose, trade,\n",
      "Nearest to build: wall, massive, form, consensus, afford, southern, built, dying,\n",
      "Nearest to president: obama, elected, final, administration, incompetent, destabilized, be, leader,\n"
     ]
    },
    {
     "name": "stdout",
     "output_type": "stream",
     "text": [
      "Average loss at step  405000 :  4.9536867878\n"
     ]
    },
    {
     "name": "stdout",
     "output_type": "stream",
     "text": [
      "Average loss at step  400000 :  5.00828252172\n",
      "Nearest to hillary: clinton, beat, wants, barack, race, pledged, polls, clintons,\n",
      "Nearest to america: again, great, strong, safe, wealthy, rich, together, god,\n",
      "Nearest to great: again, america, strong, deals, once, wealthy, make, job,\n",
      "Nearest to terrorism: islamic, west, several, violence, worlds, defeating, threat, decisive,\n",
      "Nearest to press: charges, information, fake, does, confidential, ahead, word, bit,\n",
      "Nearest to china: mexico, japan, lose, trade, world, deal, both, devalue,\n",
      "Nearest to build: wall, ships, will, massive, southern, future, position, need,\n",
      "Nearest to president: obama, barack, incompetent, angry, elected, he, standards, being,\n"
     ]
    },
    {
     "name": "stdout",
     "output_type": "stream",
     "text": [
      "Average loss at step  395000 :  4.94707392464\n"
     ]
    },
    {
     "name": "stdout",
     "output_type": "stream",
     "text": [
      "Average loss at step  390000 :  4.90829331837\n",
      "Nearest to hillary: clinton, policies, her, talks, emails, clintons, state, bill,\n",
      "Nearest to america: again, rich, wealthy, god, safe, bless, great, inner,\n",
      "Nearest to great: again, make, fantastic, proud, rich, once, strong, america,\n",
      "Nearest to terrorism: islamic, radical, several, form, defeating, in, worlds, decisive,\n",
      "Nearest to press: charges, media, confidential, supposed, fake, woman, classified, fact,\n",
      "Nearest to china: japan, mexico, lose, devalue, stealing, places, terms, overseas,\n",
      "Nearest to build: afford, massive, wall, bridges, will, we, built, dying,\n",
      "Nearest to president: administration, obama, obamas, barack, executive, deadly, constitution, orders,\n"
     ]
    },
    {
     "name": "stdout",
     "output_type": "stream",
     "text": [
      "Average loss at step  385000 :  4.91698777876\n"
     ]
    },
    {
     "name": "stdout",
     "output_type": "stream",
     "text": [
      "Average loss at step  380000 :  4.93084705243\n",
      "Nearest to hillary: clinton, has, promoter, cue, which, clintons, pataki, oppress,\n",
      "Nearest to america: make, again, together, wealthy, jobs, rich, american, safe,\n",
      "Nearest to great: again, make, deals, well, once, employ, job, relationships,\n",
      "Nearest to terrorism: islamic, radical, form, defeating, targeted, west, violence, defeat,\n",
      "Nearest to press: charges, news, fake, does, media, confidential, word, ashamed,\n",
      "Nearest to china: japan, mexico, lose, moving, devaluation, power, from, korea,\n",
      "Nearest to build: wall, make, will, to, be, we, afford, southern,\n",
      "Nearest to president: obama, elected, as, incompetent, this, leader, done, angry,\n"
     ]
    },
    {
     "name": "stdout",
     "output_type": "stream",
     "text": [
      "Average loss at step  375000 :  4.99983572216\n"
     ]
    },
    {
     "name": "stdout",
     "output_type": "stream",
     "text": [
      "Average loss at step  370000 :  5.03919619861\n",
      "Nearest to hillary: clinton, clintons, pledged, disastrous, she, bill, beat, emails,\n",
      "Nearest to america: again, we, make, wealthy, god, thank, will, great,\n",
      "Nearest to great: make, again, america, conservative, we, truly, deals, wealthy,\n",
      "Nearest to terrorism: islamic, radical, defeat, west, several, form, either, fight,\n",
      "Nearest to press: charges, information, fake, news, confidential, ashamed, word, does,\n",
      "Nearest to china: japan, mexico, lose, trade, devalue, imbalance, bought, deficit,\n",
      "Nearest to build: wall, will, building, stay, safe, use, be, afford,\n",
      "Nearest to president: obama, executive, final, ok, roberts, terminate, obamas, but,\n"
     ]
    },
    {
     "name": "stdout",
     "output_type": "stream",
     "text": [
      "Average loss at step  365000 :  4.99690244927\n"
     ]
    },
    {
     "name": "stdout",
     "output_type": "stream",
     "text": [
      "Average loss at step  360000 :  4.91720406823\n",
      "Nearest to hillary: clinton, her, beat, president, actions, against, administration, supported,\n",
      "Nearest to america: again, together, rich, make, american, safe, great, wealthy,\n",
      "Nearest to great: again, proud, strong, make, america, deals, victory, become,\n",
      "Nearest to terrorism: islamic, radical, west, isis, several, defeating, form, her,\n",
      "Nearest to press: fake, media, charges, word, fact, news, public, enemy,\n",
      "Nearest to china: mexico, devaluation, japan, jobs, devalue, their, overseas, trade,\n",
      "Nearest to build: wall, afford, gonna, dying, be, again, soon, cant,\n",
      "Nearest to president: obama, incompetent, elected, strategy, hillary, clinton, barack, putin,\n"
     ]
    },
    {
     "name": "stdout",
     "output_type": "stream",
     "text": [
      "Average loss at step  355000 :  4.92998470559\n"
     ]
    },
    {
     "name": "stdout",
     "output_type": "stream",
     "text": [
      "Average loss at step  350000 :  4.97030875478\n",
      "Nearest to hillary: clinton, clintons, pledged, which, she, beat, promises, uranium,\n",
      "Nearest to america: again, wealthy, make, rich, god, great, forgotten, deals,\n",
      "Nearest to great: thank, again, fantastic, make, god, strong, america, proud,\n",
      "Nearest to terrorism: islamic, radical, west, violence, fight, form, terror, several,\n",
      "Nearest to press: charges, confidential, does, fake, news, despite, ahead, members,\n",
      "Nearest to china: japan, devaluation, mexico, trade, south, lose, bought, korea,\n",
      "Nearest to build: wall, afford, massive, southern, privately, begin, brooklyn, rebuild,\n",
      "Nearest to president: obama, elected, incompetent, being, final, barack, neil, absolutely,\n"
     ]
    },
    {
     "name": "stdout",
     "output_type": "stream",
     "text": [
      "Average loss at step  345000 :  5.11660697351\n"
     ]
    },
    {
     "name": "stdout",
     "output_type": "stream",
     "text": [
      "Average loss at step  340000 :  5.11722018604\n",
      "Nearest to hillary: clinton, clintons, plastic, wants, pledged, race, secretary, obamaclinton,\n",
      "Nearest to america: again, wealthy, forgotten, make, together, great, deals, strong,\n",
      "Nearest to great: again, conservative, together, make, fantastic, strong, america, will,\n",
      "Nearest to terrorism: islamic, radical, west, iran, several, form, supports, defeating,\n",
      "Nearest to press: media, word, information, charges, does, confidential, news, fake,\n",
      "Nearest to china: mexico, with, lose, pay, terms, now, they, company,\n",
      "Nearest to build: wall, will, border, southern, massive, building, strong, be,\n",
      "Nearest to president: stringent, discouraging, weather�, obama, interrupting, shultz, incentive, hitting,\n"
     ]
    },
    {
     "name": "stdout",
     "output_type": "stream",
     "text": [
      "Average loss at step  335000 :  4.91242650805\n"
     ]
    },
    {
     "name": "stdout",
     "output_type": "stream",
     "text": [
      "Average loss at step  330000 :  4.94870121512\n",
      "Nearest to hillary: clinton, clintons, only, her, under, promises, administration, supports,\n",
      "Nearest to america: again, make, rich, safe, will, strong, together, wealthy,\n",
      "Nearest to great: fantastic, make, strong, again, job, proud, black, conservative,\n",
      "Nearest to terrorism: islamic, radical, nato, that, decisions, changed, several, form,\n",
      "Nearest to press: media, fact, word, fake, news, does, loving, loved,\n",
      "Nearest to china: mexico, lose, moving, countries, japan, devaluation, pay, places,\n",
      "Nearest to build: wall, rebuild, southern, afford, bridges, roads, built, massive,\n",
      "Nearest to president: obama, elected, strategy, administration, unfortunately, final, eight, deadly,\n"
     ]
    },
    {
     "name": "stdout",
     "output_type": "stream",
     "text": [
      "Average loss at step  325000 :  4.99638153901\n"
     ]
    },
    {
     "name": "stdout",
     "output_type": "stream",
     "text": [
      "Average loss at step  320000 :  5.04060495706\n",
      "Nearest to hillary: clinton, clintons, bill, islam, she, pledged, supports, her,\n",
      "Nearest to america: again, make, deals, great, wealthy, god, rich, will,\n",
      "Nearest to great: again, america, deals, job, make, substantial, all, same,\n",
      "Nearest to terrorism: islamic, libya, radical, policy, iran, mission, month, form,\n",
      "Nearest to press: media, doesnt, does, didnt, charges, word, information, but,\n",
      "Nearest to china: japan, mexico, devaluation, trade, south, lose, korea, north,\n",
      "Nearest to build: wall, afford, will, southern, rebuild, massive, technologies, begin,\n",
      "Nearest to president: obama, barack, elected, this, incompetent, angry, being, an,\n"
     ]
    },
    {
     "name": "stdout",
     "output_type": "stream",
     "text": [
      "Average loss at step  315000 :  5.19778379087\n"
     ]
    },
    {
     "name": "stdout",
     "output_type": "stream",
     "text": [
      "Average loss at step  310000 :  5.00459073086\n",
      "Nearest to hillary: clinton, clintons, beat, gave, obama, policies, policy, recent,\n",
      "Nearest to america: again, forgotten, american, make, wealthy, allow, inner, protected,\n",
      "Nearest to great: proud, fantastic, conservative, good, strong, actually, again, lot,\n",
      "Nearest to terrorism: islamic, radical, defeat, war, several, libya, inaccurately, september,\n",
      "Nearest to press: information, does, charges, media, way, public, reason, word,\n",
      "Nearest to china: mexico, japan, lose, trade, pay, terms, overseas, places,\n",
      "Nearest to build: pay, afford, wall, massive, building, safe, rebuild, weapon,\n",
      "Nearest to president: obama, elected, eight, terminate, gave, executive, clinton, incompetent,\n"
     ]
    },
    {
     "name": "stdout",
     "output_type": "stream",
     "text": [
      "Average loss at step  305000 :  5.00825257115\n"
     ]
    },
    {
     "name": "stdout",
     "output_type": "stream",
     "text": [
      "Average loss at step  300000 :  4.99999206147\n",
      "Nearest to hillary: clinton, clintons, policies, leadership, supports, policy, under, power,\n",
      "Nearest to america: again, make, forgotten, rich, will, our, together, deals,\n",
      "Nearest to great: proud, respect, again, strong, men, love, fantastic, nation,\n",
      "Nearest to terrorism: islamic, radical, decisions, islam, either, west, defeating, judgment,\n",
      "Nearest to press: fake, media, charges, news, information, me, but, fact,\n",
      "Nearest to china: lose, companies, dont, devaluation, jobs, to, have, our,\n",
      "Nearest to build: wall, rebuild, afford, need, massive, building, will, safe,\n",
      "Nearest to president: obama, elected, was, clinton, hillary, he, incompetent, gave,\n"
     ]
    },
    {
     "name": "stdout",
     "output_type": "stream",
     "text": [
      "Average loss at step  295000 :  5.06113676414\n"
     ]
    },
    {
     "name": "stdout",
     "output_type": "stream",
     "text": [
      "Average loss at step  290000 :  5.14570791707\n",
      "Nearest to hillary: clinton, beat, wants, clintons, reset, amnesty, race, pledged,\n",
      "Nearest to america: again, great, rich, forgotten, deals, strong, god, wealthy,\n",
      "Nearest to great: america, again, proud, wealthy, deals, truly, fantastic, victory,\n",
      "Nearest to terrorism: islamic, against, syria, radical, immigration, decisions, iran, libya,\n",
      "Nearest to press: because, media, information, charges, fake, news, doesnt, does,\n",
      "Nearest to china: korea, japan, south, mexico, devaluation, north, company, country,\n",
      "Nearest to build: wall, massive, will, afford, creation, rebuild, military, southern,\n",
      "Nearest to president: obama, being, elected, incompetent, angry, an, when, ben,\n"
     ]
    },
    {
     "name": "stdout",
     "output_type": "stream",
     "text": [
      "Average loss at step  285000 :  5.14126453836\n"
     ]
    },
    {
     "name": "stdout",
     "output_type": "stream",
     "text": [
      "Average loss at step  280000 :  5.08983540244\n",
      "Nearest to hillary: clinton, policies, today, reset, clintons, she, russia, wants,\n",
      "Nearest to america: again, forgotten, americans, will, country, american, wealthy, party,\n",
      "Nearest to great: again, strong, fantastic, make, truly, will, matt, conservative,\n",
      "Nearest to terrorism: islamic, radical, iran, defeat, form, either, several, west,\n",
      "Nearest to press: media, charges, word, news, information, fake, classified, ok,\n",
      "Nearest to china: mexico, lose, both, japan, terms, korea, imbalance, losing,\n",
      "Nearest to build: safe, afford, be, weapon, privately, want, start, wall,\n",
      "Nearest to president: elected, obama, will, wont, system, incompetent, putin, im,\n"
     ]
    },
    {
     "name": "stdout",
     "output_type": "stream",
     "text": [
      "Average loss at step  275000 :  5.03439874763\n"
     ]
    },
    {
     "name": "stdout",
     "output_type": "stream",
     "text": [
      "Average loss at step  270000 :  5.03934946432\n",
      "Nearest to hillary: clinton, supports, cue, solution, pataki, scandals, islam, has,\n",
      "Nearest to america: again, together, deals, make, will, forgotten, wealthy, join,\n",
      "Nearest to great: make, fantastic, job, again, parents, conservative, can, deals,\n",
      "Nearest to terrorism: islamic, radical, form, targeted, defeat, several, clintons, iran,\n",
      "Nearest to press: word, news, media, fake, that, charges, fine, thats,\n",
      "Nearest to china: devaluation, terms, mexico, world, japan, companies, currency, building,\n",
      "Nearest to build: wall, will, afford, privately, built, creation, america, pay,\n",
      "Nearest to president: obama, elected, cannot, putin, long, who, incompetent, leader,\n"
     ]
    },
    {
     "name": "stdout",
     "output_type": "stream",
     "text": [
      "Average loss at step  265000 :  5.18715218892\n"
     ]
    },
    {
     "name": "stdout",
     "output_type": "stream",
     "text": [
      "Average loss at step  260000 :  5.19582224655\n",
      "Nearest to hillary: clinton, state, bill, clintons, secretary, has, supported, department,\n",
      "Nearest to america: again, make, wealthy, strong, forgotten, great, all, to,\n",
      "Nearest to great: again, will, america, once, day, job, strong, fantastic,\n",
      "Nearest to terrorism: islamic, war, iran, terror, radical, libya, form, early,\n",
      "Nearest to press: charges, word, news, information, reason, confidential, fake, fine,\n",
      "Nearest to china: mexico, japan, both, lose, moving, trade, pay, with,\n",
      "Nearest to build: wall, we, will, afford, building, military, weapon, privately,\n",
      "Nearest to president: obama, 10, being, year, angry, temperament, was, next,\n"
     ]
    },
    {
     "name": "stdout",
     "output_type": "stream",
     "text": [
      "Average loss at step  255000 :  5.32734915085\n"
     ]
    },
    {
     "name": "stdout",
     "output_type": "stream",
     "text": [
      "Average loss at step  250000 :  5.05391109934\n",
      "Nearest to hillary: clinton, beat, supports, clintons, has, secretary, policies, bill,\n",
      "Nearest to america: again, make, american, rich, wealthy, great, god, together,\n",
      "Nearest to great: again, strong, everybody, make, proud, fantastic, america, once,\n",
      "Nearest to terrorism: islamic, charge, terror, changed, iran, september, taking, since,\n",
      "Nearest to press: charges, information, news, fake, media, word, does, confidential,\n",
      "Nearest to china: mexico, pay, japan, companies, lose, moving, overseas, losing,\n",
      "Nearest to build: afford, wall, better, pay, cant, privately, make, stay,\n",
      "Nearest to president: obama, elected, last, wants, businessman, gave, successful, putin,\n"
     ]
    },
    {
     "name": "stdout",
     "output_type": "stream",
     "text": [
      "Average loss at step  245000 :  5.11990003576\n"
     ]
    },
    {
     "name": "stdout",
     "output_type": "stream",
     "text": [
      "Average loss at step  240000 :  5.16534264393\n",
      "Nearest to hillary: clinton, �, foreign, clintons, supports, under, her, policies,\n",
      "Nearest to america: again, make, together, our, american, safe, rich, country,\n",
      "Nearest to great: again, fantastic, well, proud, become, big, strong, my,\n",
      "Nearest to terrorism: islamic, radical, form, defeat, clinton, state, terror, hillary,\n",
      "Nearest to press: fake, news, that, because, honestly, media, enemy, should,\n",
      "Nearest to china: japan, mexico, trade, lose, pay, planes, devaluation, currency,\n",
      "Nearest to build: wall, afford, begin, massive, we, new, create, rebuilding,\n",
      "Nearest to president: obama, it, has, elected, being, us, run, when,\n"
     ]
    },
    {
     "name": "stdout",
     "output_type": "stream",
     "text": [
      "Average loss at step  235000 :  5.27808467832\n"
     ]
    },
    {
     "name": "stdout",
     "output_type": "stream",
     "text": [
      "Average loss at step  230000 :  5.53521980715\n",
      "Nearest to hillary: clinton, wants, against, beat, obama, �, clintons, also,\n",
      "Nearest to america: again, make, great, together, safe, wealthy, strong, rich,\n",
      "Nearest to great: again, fantastic, america, make, conservative, matt, men, strong,\n",
      "Nearest to terrorism: islamic, radical, iran, against, libya, fight, words, also,\n",
      "Nearest to press: information, but, does, should, media, because, get, news,\n",
      "Nearest to china: whoa�, demanding, mexico, argument, trades, id, argentina, indexes,\n",
      "Nearest to build: wall, part, massive, society, will, pay, create, weapon,\n",
      "Nearest to president: obama, barack, being, respect, could, chance, run, knows,\n"
     ]
    },
    {
     "name": "stdout",
     "output_type": "stream",
     "text": [
      "Average loss at step  225000 :  5.13656441307\n"
     ]
    },
    {
     "name": "stdout",
     "output_type": "stream",
     "text": [
      "Average loss at step  220000 :  5.19313899865\n",
      "Nearest to hillary: clinton, by, wants, supports, obama, et, her, only,\n",
      "Nearest to america: again, make, safe, american, rich, great, also, start,\n",
      "Nearest to great: again, make, strong, safe, america, once, become, will,\n",
      "Nearest to terrorism: islamic, radical, islam, defeat, words, fight, her, form,\n",
      "Nearest to press: media, word, reason, thats, news, out, enemy, honest,\n",
      "Nearest to china: mexico, japan, lose, losing, overseas, pay, countries, places,\n",
      "Nearest to build: wall, massive, afford, need, pay, building, will, built,\n",
      "Nearest to president: obama, elected, barack, he, executive, trump, pushed, end,\n"
     ]
    },
    {
     "name": "stdout",
     "output_type": "stream",
     "text": [
      "Average loss at step  215000 :  5.20994779444\n"
     ]
    },
    {
     "name": "stdout",
     "output_type": "stream",
     "text": [
      "Average loss at step  210000 :  5.23053492746\n",
      "Nearest to hillary: clinton, reset, beat, bill, her, barack, wants, has,\n",
      "Nearest to america: again, deals, great, make, together, rich, god, our,\n",
      "Nearest to great: america, deals, love, men, strong, thank, again, border,\n",
      "Nearest to terrorism: islamic, radical, war, clinton, islam, fight, immigration, form,\n",
      "Nearest to press: �, so, should, cant, doesnt, word, for, news,\n",
      "Nearest to china: japan, mexico, korea, countries, trade, south, lose, making,\n",
      "Nearest to build: wall, massive, built, afford, begin, building, nation, privately,\n",
      "Nearest to president: been, has, obama, leader, than, run, say, totally,\n"
     ]
    },
    {
     "name": "stdout",
     "output_type": "stream",
     "text": [
      "Average loss at step  205000 :  5.48156604905\n"
     ]
    },
    {
     "name": "stdout",
     "output_type": "stream",
     "text": [
      "Average loss at step  200000 :  5.40010472379\n",
      "Nearest to hillary: clinton, clintons, state, who, wants, her, by, has,\n",
      "Nearest to america: again, make, great, safe, strong, together, are, country,\n",
      "Nearest to great: strong, conservative, america, again, colonels, once, on, matt,\n",
      "Nearest to terrorism: islamic, radical, war, form, against, libya, her, syria,\n",
      "Nearest to press: word, honest, it, fine, think, a, important, does,\n",
      "Nearest to china: mexico, terms, moving, pay, lose, places, losing, us,\n",
      "Nearest to build: massive, wall, pay, afford, building, need, wanna, create,\n",
      "Nearest to president: obama, elected, community, by, does, running, barack, then,\n"
     ]
    },
    {
     "name": "stdout",
     "output_type": "stream",
     "text": [
      "Average loss at step  195000 :  5.27853415542\n"
     ]
    },
    {
     "name": "stdout",
     "output_type": "stream",
     "text": [
      "Average loss at step  190000 :  5.21016178832\n",
      "Nearest to hillary: clinton, her, beat, generals, amnesty, under, supports, today,\n",
      "Nearest to america: again, make, rich, together, deals, want, bigger, worker,\n",
      "Nearest to great: make, again, proud, company, unbelievable, built, deals, fair,\n",
      "Nearest to terrorism: islamic, radical, even, lots, made, of, history, nato,\n",
      "Nearest to press: word, honest, fake, thats, news, fine, why, does,\n",
      "Nearest to china: mexico, pay, trade, losing, moving, both, lose, making,\n",
      "Nearest to build: wall, built, massive, afford, building, make, work, privately,\n",
      "Nearest to president: obama, elected, barack, who, community, wants, also, has,\n"
     ]
    },
    {
     "name": "stdout",
     "output_type": "stream",
     "text": [
      "Average loss at step  185000 :  5.27174312224\n"
     ]
    },
    {
     "name": "stdout",
     "output_type": "stream",
     "text": [
      "Average loss at step  180000 :  5.48803457808\n",
      "Nearest to hillary: clinton, clintons, amnesty, has, her, also, power, she,\n",
      "Nearest to america: rich, make, again, going, start, protect, together, better,\n",
      "Nearest to great: again, make, strong, safe, well, thank, everybody, much,\n",
      "Nearest to terrorism: islamic, radical, entire, one, �, refugees, secretary, form,\n",
      "Nearest to press: it, but, news, fake, because, word, right, fine,\n",
      "Nearest to china: mexico, places, building, world, lose, which, trade, from,\n",
      "Nearest to build: wall, built, massive, afford, building, form, will, begin,\n",
      "Nearest to president: obama, an, respect, when, and, of, ok, barack,\n"
     ]
    },
    {
     "name": "stdout",
     "output_type": "stream",
     "text": [
      "Average loss at step  175000 :  5.53553254266\n"
     ]
    },
    {
     "name": "stdout",
     "output_type": "stream",
     "text": [
      "Average loss at step  170000 :  5.55099706368\n",
      "Nearest to hillary: clinton, beat, against, reset, clintons, polls, wants, she,\n",
      "Nearest to america: again, make, country, rich, strong, americans, deals, economy,\n",
      "Nearest to great: strong, make, up, also, a, thought, proud, and,\n",
      "Nearest to terrorism: islamic, radical, fight, war, even, against, were, taking,\n",
      "Nearest to press: word, fine, media, and, know, news, information, fake,\n",
      "Nearest to china: mexico, countries, lose, japan, from, pay, moving, them,\n",
      "Nearest to build: wall, building, massive, pay, built, be, will, up,\n",
      "Nearest to president: elected, chance, also, putin, has, angry, change, temperament,\n"
     ]
    },
    {
     "name": "stdout",
     "output_type": "stream",
     "text": [
      "Average loss at step  165000 :  5.26370629225\n"
     ]
    },
    {
     "name": "stdout",
     "output_type": "stream",
     "text": [
      "Average loss at step  160000 :  5.42828168836\n",
      "Nearest to hillary: clinton, beat, amnesty, under, which, clintons, policy, her,\n",
      "Nearest to america: make, again, deals, will, american, together, win, anymore,\n",
      "Nearest to great: unbelievable, job, decision, again, proud, conservative, fantastic, way,\n",
      "Nearest to terrorism: radical, islamic, against, her, be, islam, decision, fight,\n",
      "Nearest to press: word, why, honest, fake, fact, think, news, the,\n",
      "Nearest to china: overseas, countries, advantage, spending, weve, into, places, lose,\n",
      "Nearest to build: wall, built, we, will, building, afford, have, begin,\n",
      "Nearest to president: obama, respect, under, also, elected, another, point, only,\n"
     ]
    },
    {
     "name": "stdout",
     "output_type": "stream",
     "text": [
      "Average loss at step  155000 :  5.45292040296\n"
     ]
    },
    {
     "name": "stdout",
     "output_type": "stream",
     "text": [
      "Average loss at step  150000 :  5.74600939331\n",
      "Nearest to hillary: clinton, clintons, biggest, amnesty, cost, record, has, she,\n",
      "Nearest to america: again, make, strong, great, together, become, the, start,\n",
      "Nearest to great: again, america, strong, make, deals, our, will, become,\n",
      "Nearest to terrorism: radical, islamic, state, syria, fight, of, terms, entire,\n",
      "Nearest to press: should, know, news, nice, fake, against, now, part,\n",
      "Nearest to china: mexico, japan, both, , deal, every, better, pay,\n",
      "Nearest to build: wall, be, we, pay, military, massive, building, ,\n",
      "Nearest to president: obama, ran, thought, job, decision, temperament, conservative, hes,\n"
     ]
    },
    {
     "name": "stdout",
     "output_type": "stream",
     "text": [
      "Average loss at step  145000 :  5.72039928408\n"
     ]
    },
    {
     "name": "stdout",
     "output_type": "stream",
     "text": [
      "Average loss at step  140000 :  5.63649839811\n",
      "Nearest to hillary: clinton, while, radical, russia, clintons, even, power, amnesty,\n",
      "Nearest to america: of, we, american, again, make, together, our, rich,\n",
      "Nearest to great: again, make, strong, im, and, parents, everybody, good,\n",
      "Nearest to terrorism: islamic, radical, fight, one, day, terms, who, islam,\n",
      "Nearest to press: media, honestly, word, means, real, does, much, fine,\n",
      "Nearest to china: but, places, where, both, them, mexico, japan, and,\n",
      "Nearest to build: will, afford, pay, wall, built, massive, building, and,\n",
      "Nearest to president: be, decision, totally, also, executive, this, elected, wont,\n"
     ]
    },
    {
     "name": "stdout",
     "output_type": "stream",
     "text": [
      "Average loss at step  135000 :  5.6876985847\n"
     ]
    },
    {
     "name": "stdout",
     "output_type": "stream",
     "text": [
      "Average loss at step  130000 :  5.66183268695\n",
      "Nearest to hillary: clinton, clintons, her, beat, supported, amnesty, only, foreign,\n",
      "Nearest to america: make, again, deals, will, to, together, be, we,\n",
      "Nearest to great: making, make, fair, deals, again, how, pay, leave,\n",
      "Nearest to terrorism: islamic, radical, state, terror, many, terms, fight, of,\n",
      "Nearest to press: honestly, media, does, fake, word, news, fact, on,\n",
      "Nearest to china: mexico, trade, pay, its, japan, countries, building, both,\n",
      "Nearest to build: wall, massive, built, afford, pay, building, be, great,\n",
      "Nearest to president: obama, this, respect, hes, barack, being, thought, elected,\n"
     ]
    },
    {
     "name": "stdout",
     "output_type": "stream",
     "text": [
      "Average loss at step  125000 :  5.61033539748\n"
     ]
    },
    {
     "name": "stdout",
     "output_type": "stream",
     "text": [
      "Average loss at step  120000 :  6.41131247201\n",
      "Nearest to hillary: amnesty, clintons, change, clinton, state, even, she, politicians,\n",
      "Nearest to america: make, again, strong, we, great, so, rich, thank,\n",
      "Nearest to great: make, again, america, strong, we, so, chance, safe,\n",
      "Nearest to terrorism: islamic, terror, �, nation, there, have, is, the,\n",
      "Nearest to press: fake, word, news, does, fact, why, media, doesnt,\n",
      "Nearest to china: mexico, trade, other, spent, with, from, japan, everything,\n",
      "Nearest to build: wall, use, need, make, built, afford, wanna, building,\n",
      "Nearest to president: thought, next, obama, hes, number, chance, but, could,\n"
     ]
    },
    {
     "name": "stdout",
     "output_type": "stream",
     "text": [
      "Average loss at step  115000 :  6.06758433471\n"
     ]
    },
    {
     "name": "stdout",
     "output_type": "stream",
     "text": [
      "Average loss at step  110000 :  5.68116466265\n",
      "Nearest to hillary: clinton, beat, even, has, words, already, clintons, through,\n",
      "Nearest to america: again, strong, great, make, safe, start, rich, americans,\n",
      "Nearest to great: america, strong, again, life, everybody, make, this, thank,\n",
      "Nearest to terrorism: islamic, radical, plan, iran, fight, her, record, one,\n",
      "Nearest to press: fact, media, through, fake, honestly, news, public, honest,\n",
      "Nearest to china: mexico, countries, pay, from, jobs, their, places, make,\n",
      "Nearest to build: going, wall, be, pay, afford, start, military, gonna,\n",
      "Nearest to president: obama, even, absolutely, which, done, well, got, change,\n"
     ]
    },
    {
     "name": "stdout",
     "output_type": "stream",
     "text": [
      "Average loss at step  105000 :  5.72811724987\n"
     ]
    },
    {
     "name": "stdout",
     "output_type": "stream",
     "text": [
      "Average loss at step  100000 :  5.83446622276\n",
      "Nearest to hillary: clinton, power, she, beat, through, that, clintons, foreign,\n",
      "Nearest to america: again, rich, first, deals, will, safe, nation, we,\n",
      "Nearest to great: probably, but, today, question, true, good, tremendous, fair,\n",
      "Nearest to terrorism: islamic, radical, plan, the, deal, for, under, since,\n",
      "Nearest to press: honestly, because, media, public, process, fake, even, honest,\n",
      "Nearest to china: trade, countries, deal, advantage, giving, places, having, that,\n",
      "Nearest to build: built, wall, pay, start, building, taking, we, nation,\n",
      "Nearest to president: today, obama, his, being, totally, probably, maybe, executive,\n"
     ]
    },
    {
     "name": "stdout",
     "output_type": "stream",
     "text": [
      "Average loss at step  95000 :  6.21603485341\n"
     ]
    },
    {
     "name": "stdout",
     "output_type": "stream",
     "text": [
      "Average loss at step  90000 :  6.57239083223\n",
      "Nearest to hillary: wants, clinton, beat, even, power, also, made, i,\n",
      "Nearest to america: again, make, great, rich, protect, american, americans, our,\n",
      "Nearest to great: again, strong, make, america, nation, will, big, proud,\n",
      "Nearest to terrorism: islamic, done, change, �, plan, deal, clintons, since,\n",
      "Nearest to press: does, even, had, that, fine, media, ok, how,\n",
      "Nearest to china: mexico, them, even, deal, theyre, cant, agree, communities,\n",
      "Nearest to build: wall, will, wanna, now, start, pay, business, nation,\n",
      "Nearest to president: was, for, chance, being, obama, running, number, show,\n"
     ]
    },
    {
     "name": "stdout",
     "output_type": "stream",
     "text": [
      "Average loss at step  85000 :  6.14108995485\n"
     ]
    },
    {
     "name": "stdout",
     "output_type": "stream",
     "text": [
      "Average loss at step  80000 :  6.11994754281\n",
      "Nearest to hillary: clinton, has, that, heard, beat, wants, against, polls,\n",
      "Nearest to america: make, again, great, rich, start, we, shouldnt, to,\n",
      "Nearest to great: make, deals, again, to, tremendous, im, its, rich,\n",
      "Nearest to terrorism: islamic, radical, on, policy, all, life, then, plan,\n",
      "Nearest to press: fake, news, word, does, how, media, fact, honest,\n",
      "Nearest to china: mexico, their, jobs, them, day, up, countries, on,\n",
      "Nearest to build: wall, will, gonna, health, pay, built, a, for,\n",
      "Nearest to president: year, obama, room, my, end, national, wont, maybe,\n"
     ]
    },
    {
     "name": "stdout",
     "output_type": "stream",
     "text": [
      "Average loss at step  75000 :  6.29876050978\n"
     ]
    },
    {
     "name": "stdout",
     "output_type": "stream",
     "text": [
      "Average loss at step  70000 :  6.30412472086\n",
      "Nearest to hillary: clinton, clintons, policy, her, number, and, has, beat,\n",
      "Nearest to america: make, again, safe, deals, great, protect, build, work,\n",
      "Nearest to great: deals, again, strong, make, care, were, but, country,\n",
      "Nearest to terrorism: islamic, radical, first, on, wants, against, policy, has,\n",
      "Nearest to press: media, through, cant, out, does, absolutely, fair, fake,\n",
      "Nearest to china: mexico, deal, these, were, cant, them, with, because,\n",
      "Nearest to build: wall, were, start, health, be, going, whole, need,\n",
      "Nearest to president: obama, that, he, has, an, this, nobody, and,\n"
     ]
    },
    {
     "name": "stdout",
     "output_type": "stream",
     "text": [
      "Average loss at step  65000 :  6.88574551382\n"
     ]
    },
    {
     "name": "stdout",
     "output_type": "stream",
     "text": [
      "Average loss at step  60000 :  6.78583353181\n",
      "Nearest to hillary: clinton, policy, beat, heard, against, she, nobody, frankly,\n",
      "Nearest to america: we, again, will, to, make, were, protect, too,\n",
      "Nearest to great: actually, well, and, people, we, here, good, very,\n",
      "Nearest to terrorism: islamic, wants, against, needs, war, america, put, in,\n",
      "Nearest to press: public, system, know, media, fair, believe, is, that,\n",
      "Nearest to china: us, countries, mexico, know, we, trade, israel, them,\n",
      "Nearest to build: wall, gonna, its, big, start, now, for, work,\n",
      "Nearest to president: obama, thought, started, then, did, different, even, said,\n"
     ]
    },
    {
     "name": "stdout",
     "output_type": "stream",
     "text": [
      "Average loss at step  55000 :  7.04289330006\n"
     ]
    },
    {
     "name": "stdout",
     "output_type": "stream",
     "text": [
      "Average loss at step  50000 :  6.85895805559\n",
      "Nearest to hillary: clinton, has, on, another, had, that, beat, national,\n",
      "Nearest to america: again, make, deals, rich, great, start, military, country,\n",
      "Nearest to great: not, do, my, something, deals, to, were, go,\n",
      "Nearest to terrorism: next, doing, companies, im, then, national, ok, something,\n",
      "Nearest to press: media, public, does, would, news, absolutely, tremendous, assad,\n",
      "Nearest to china: countries, mexico, pay, in, up, �, them, because,\n",
      "Nearest to build: wall, start, will, or, need, tremendous, making, all,\n",
      "Nearest to president: his, obama, went, him, she, being, anything, he,\n"
     ]
    },
    {
     "name": "stdout",
     "output_type": "stream",
     "text": [
      "Average loss at step  45000 :  7.04824896131\n"
     ]
    },
    {
     "name": "stdout",
     "output_type": "stream",
     "text": [
      "Average loss at step  40000 :  7.59911329737\n",
      "Nearest to hillary: clinton, beat, she, today, said, went, nothing, not,\n",
      "Nearest to america: experiencing, sailors, hunker, battered, vigorously, capacity, months�, engineer,\n",
      "Nearest to great: deals, our, again, were, deal, country, border, system,\n",
      "Nearest to terrorism: renegotiated, category, magnitude, whoa�, change, iss, klu, onemonth,\n",
      "Nearest to press: wouldnt, protect, doesnt, immigration, frankly, happened, want, news,\n",
      "Nearest to china: politicians, be, city, are, where, happened, whats, should,\n",
      "Nearest to build: wall, as, cant, pay, but, better, doesnt, nuclear,\n",
      "Nearest to president: obama, its, came, has, most, fact, city, his,\n"
     ]
    },
    {
     "name": "stdout",
     "output_type": "stream",
     "text": [
      "Average loss at step  35000 :  8.43609101262\n"
     ]
    },
    {
     "name": "stdout",
     "output_type": "stream",
     "text": [
      "Average loss at step  30000 :  9.00504323177\n",
      "Nearest to hillary: two, and, made, or, russia, talk, clinton, american,\n",
      "Nearest to america: make, again, great, already, then, american, stop, out,\n",
      "Nearest to great: job, well, your, am, make, very, better, america,\n",
      "Nearest to terrorism: plan, and, when, something, with, even, radical, countries,\n",
      "Nearest to press: devaluing, horribly, assad, happened, nervous, rip, institutions, c�,\n",
      "Nearest to china: made, us, trade, number, with, or, mexico, frankly,\n",
      "Nearest to build: tremendous, nuclear, so, start, doesnt, problem, far, if,\n",
      "Nearest to president: really, a, this, hes, mean, doesnt, little, doing,\n"
     ]
    },
    {
     "name": "stdout",
     "output_type": "stream",
     "text": [
      "Average loss at step  25000 :  9.4270180737\n"
     ]
    },
    {
     "name": "stdout",
     "output_type": "stream",
     "text": [
      "Average loss at step  20000 :  9.86896980348\n",
      "Nearest to hillary: out, her, just, that, has, �, by, clinton,\n",
      "Nearest to america: so, again, if, great, they, deal, american, than,\n",
      "Nearest to great: very, from, most, more, america, big, so, deal,\n",
      "Nearest to terrorism: bring, first, florida, work, so, everybody, could, how,\n",
      "Nearest to press: action, established, suffering, disgraceful, bond, tall, backwards, forming,\n",
      "Nearest to china: put, now, almost, they, into, have, through, their,\n",
      "Nearest to build: your, think, let, been, dont, but, not, very,\n",
      "Nearest to president: people, didnt, could, even, i, doing, up, deal,\n"
     ]
    },
    {
     "name": "stdout",
     "output_type": "stream",
     "text": [
      "Average loss at step  15000 :  11.7614529788\n"
     ]
    },
    {
     "name": "stdout",
     "output_type": "stream",
     "text": [
      "Average loss at step  10000 :  13.9649899966\n",
      "Nearest to hillary: clinton, cant, also, most, not, said, just, never,\n",
      "Nearest to america: make, who, other, great, are, have, into, so,\n",
      "Nearest to great: will, just, lot, bad, who, one, well, many,\n",
      "Nearest to terrorism: sat, next, that�, caterpillar, extremely, opinion, crime, instantly,\n",
      "Nearest to press: youth, forming, enforcement, debating, con, funneled, banking, haiti,\n",
      "Nearest to china: need, our, into, not, those, will, clinton, were,\n",
      "Nearest to build: b52, following, cuban, hire, mitt, saving, cares, tougher,\n",
      "Nearest to president: their, at, im, by, have, them, would, make,\n"
     ]
    },
    {
     "name": "stdout",
     "output_type": "stream",
     "text": [
      "Average loss at step  5000 :  29.719666335\n"
     ]
    },
    {
     "name": "stdout",
     "output_type": "stream",
     "text": [
      "Initialized\n",
      "Average loss at step  0 :  212.514663696\n",
      "Nearest to hillary: unemployed, nominated, fair, wave, abused, pretense, returning, border,\n",
      "Nearest to america: addition, condone, boldly, robocalls, wins, conditions, nabisco, jobs�,\n",
      "Nearest to great: disappear, rates, write�, saves, providing, wisconsin, else�, concern,\n",
      "Nearest to terrorism: stages, motor, trapped, lifelong, model, drawer, fairness, indonesia,\n",
      "Nearest to press: vigorously, crossings, enforcement, thrilled, 6, outside, nervous, carefully,\n",
      "Nearest to china: integration, covers, 31, heights, protecting, onemonth, molestation, you,\n",
      "Nearest to build: interruptions, lowering, sarel, resulted, martyrs, ashamed, screening, framework,\n",
      "Nearest to president: facilitator, weather, theyll, pigs�, ruling, assad, head, couldve,\n"
     ]
    }
   ],
   "source": [
    "# Step 5: Begin training.\n",
    "num_steps = 500001\n",
    "\n",
    "with tf.Session(graph=graph) as session:\n",
    "  # We must initialize all variables before we use them.\n",
    "  init.run()\n",
    "  print(\"Initialized\")\n",
    "\n",
    "  average_loss = 0\n",
    "  for step in xrange(num_steps):\n",
    "    batch_inputs, batch_labels = generate_batch(\n",
    "        batch_size, num_skips, skip_window)\n",
    "    feed_dict = {train_inputs: batch_inputs, train_labels: batch_labels}\n",
    "\n",
    "    # We perform one update step by evaluating the optimizer op (including it\n",
    "    # in the list of returned values for session.run()\n",
    "    _, loss_val = session.run([optimizer, loss], feed_dict=feed_dict)\n",
    "    average_loss += loss_val\n",
    "\n",
    "    if step % 5000 == 0:\n",
    "      if step > 0:\n",
    "        average_loss /= 5000\n",
    "      # The average loss is an estimate of the loss over the last 5000 batches.\n",
    "      print(\"Average loss at step \", step, \": \", average_loss)\n",
    "      average_loss = 0\n",
    "\n",
    "    # Note that this is expensive (~20% slowdown if computed every 500 steps)\n",
    "    if step % 10000 == 0:\n",
    "      sim = similarity.eval()\n",
    "      for i in xrange(valid_size):\n",
    "        valid_word = reverse_dictionary[valid_examples[i]]\n",
    "        top_k = 8 # number of nearest neighbors\n",
    "        nearest = (-sim[i, :]).argsort()[1:top_k + 1]\n",
    "        log_str = \"Nearest to %s:\" % valid_word\n",
    "        for k in xrange(top_k):\n",
    "          close_word = reverse_dictionary[nearest[k]]\n",
    "          log_str = \"%s %s,\" % (log_str, close_word)\n",
    "        print(log_str)\n",
    "  final_embeddings = normalized_embeddings.eval()"
   ]
  },
  {
   "cell_type": "code",
   "execution_count": 9,
   "metadata": {
    "autoscroll": "json-false",
    "collapsed": false,
    "ein.tags": [
     "worksheet-0"
    ],
    "slideshow": {
     "slide_type": "-"
    }
   },
   "outputs": [],
   "source": [
    "num_points = 1000\n",
    "tsne = TSNE(perplexity=30, n_components=2, init='pca', n_iter=5000)\n",
    "two_d_embeddings = tsne.fit_transform(final_embeddings[1:num_points+1, :])"
   ]
  },
  {
   "cell_type": "code",
   "execution_count": 0,
   "metadata": {
    "autoscroll": "json-false",
    "collapsed": false,
    "ein.tags": [
     "worksheet-0"
    ],
    "slideshow": {
     "slide_type": "-"
    }
   },
   "outputs": [],
   "source": [
    "def plot(embeddings, labels):\n",
    "  assert embeddings.shape[0] >= len(labels), 'More labels than embeddings'\n",
    "  pylab.figure(figsize=(15,15))  # in inches\n",
    "  for i, label in enumerate(labels):\n",
    "    x, y = embeddings[i,:]\n",
    "    pylab.scatter(x, y)\n",
    "    pylab.annotate(label, xy=(x, y), xytext=(5, 2), textcoords='offset points',\n",
    "                   ha='right', va='bottom')\n",
    "  pylab.show()\n",
    "\n",
    "words = [reverse_dictionary[i] for i in range(1, num_points+1)]\n",
    "plot(two_d_embeddings, words)"
   ]
  }
 ],
 "metadata": {
  "colab": {
   "default_view": {},
   "name": "5_word2vec.ipynb",
   "provenance": {},
   "version": "0.3.2",
   "views": {}
  },
  "name": "trump_nlp.ipynb"
 },
 "nbformat": 4,
 "nbformat_minor": 0
}
